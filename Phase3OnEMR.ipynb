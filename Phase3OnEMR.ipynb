{
 "cells": [
  {
   "cell_type": "code",
   "execution_count": null,
   "id": "b1581ddf-70b0-4115-abb1-50dedd0d81b4",
   "metadata": {},
   "outputs": [
    {
     "name": "stderr",
     "output_type": "stream",
     "text": [
      "Setting default log level to \"WARN\".\n",
      "To adjust logging level use sc.setLogLevel(newLevel). For SparkR, use setLogLevel(newLevel).\n",
      "24/11/27 10:14:09 WARN Client: Neither spark.yarn.jars nor spark.yarn.archive is set, falling back to uploading libraries under SPARK_HOME.\n"
     ]
    },
    {
     "name": "stdout",
     "output_type": "stream",
     "text": [
      "3.5.2-amzn-1\n"
     ]
    }
   ],
   "source": [
    "import findspark\n",
    "findspark.init()\n",
    "\n",
    "import pyspark\n",
    "from pyspark.sql import SparkSession\n",
    "\n",
    "# creating session\n",
    "spark = SparkSession.builder \\\n",
    "    .appName(\"EMR_PySpark\") \\\n",
    "    .getOrCreate()\n",
    "\n",
    "# is it working?\n",
    "print(spark.version)\n",
    "\n"
   ]
  },
  {
   "cell_type": "code",
   "execution_count": 4,
   "id": "768958a9-227c-4415-8ca2-be2ed9d81379",
   "metadata": {
    "collapsed": true,
    "jupyter": {
     "outputs_hidden": true
    }
   },
   "outputs": [
    {
     "name": "stderr",
     "output_type": "stream",
     "text": [
      "                                                                                \r"
     ]
    },
    {
     "name": "stdout",
     "output_type": "stream",
     "text": [
      "+-----+---------------------+--------+--------------------+--------------------+-----+---------+-----------------+--------------------+--------------------+----------+--------------------+--------------------+--------------------+--------------------+--------------------+--------------------+--------------------+--------+--------------------+--------------------+--------+--------------------+-----------------+\n",
      "|adult|belongs_to_collection|  budget|              genres|            homepage|   id|  imdb_id|original_language|      original_title|            overview|popularity|         poster_path|production_companies|production_countries|        release_date|             revenue|             runtime|    spoken_languages|  status|             tagline|               title|   video|        vote_average|       vote_count|\n",
      "+-----+---------------------+--------+--------------------+--------------------+-----+---------+-----------------+--------------------+--------------------+----------+--------------------+--------------------+--------------------+--------------------+--------------------+--------------------+--------------------+--------+--------------------+--------------------+--------+--------------------+-----------------+\n",
      "|False| {'id': 10194, 'na...|30000000|[{'id': 16, 'name...|http://toystory.d...|  862|tt0114709|               en|           Toy Story|Led by Woody, And...| 21.946943|/rhIRbceoE9lR4veE...|[{'name': 'Pixar ...|[{'iso_3166_1': '...|          1995-10-30|           373554033|                81.0|[{'iso_639_1': 'e...|Released|                NULL|           Toy Story|   False|                 7.7|             5415|\n",
      "|False|                 NULL|65000000|[{'id': 12, 'name...|                NULL| 8844|tt0113497|               en|             Jumanji|When siblings Jud...| 17.015539|/vzmL6fP7aPKNKPRT...|[{'name': 'TriSta...|[{'iso_3166_1': '...|          1995-12-15|           262797249|               104.0|[{'iso_639_1': 'e...|Released|Roll the dice and...|             Jumanji|   False|                 6.9|             2413|\n",
      "|False| {'id': 119050, 'n...|       0|[{'id': 10749, 'n...|                NULL|15602|tt0113228|               en|    Grumpier Old Men|A family wedding ...|   11.7129|/6ksm1sjKMFLbO7UY...|[{'name': 'Warner...|[{'iso_3166_1': '...|          1995-12-22|                   0|               101.0|[{'iso_639_1': 'e...|Released|Still Yelling. St...|    Grumpier Old Men|   False|                 6.5|               92|\n",
      "|False|                 NULL|16000000|[{'id': 35, 'name...|                NULL|31357|tt0114885|               en|   Waiting to Exhale|\"Cheated on, mist...|    Bernie| Glo and Robin ta...| determined to fi...|            3.859495|/16XOMpEaLWkrcPqS...|[{'name': 'Twenti...|[{'iso_3166_1': '...|          1995-12-22|81452156|               127.0|[{'iso_639_1': 'e...|Released|Friends are the p...|Waiting to Exhale|\n",
      "|False| {'id': 96871, 'na...|       0|[{'id': 35, 'name...|                NULL|11862|tt0113041|               en|Father of the Bri...|Just when George ...|  8.387519|/e64sOI48hQXyru7n...|[{'name': 'Sandol...|[{'iso_3166_1': '...|          1995-02-10|            76578911|               106.0|[{'iso_639_1': 'e...|Released|Just When His Wor...|Father of the Bri...|   False|                 5.7|              173|\n",
      "|False|                 NULL|60000000|[{'id': 28, 'name...|                NULL|  949|tt0113277|               en|                Heat|Obsessive master ...| 17.924927|/zMyfPUelumio3tiD...|[{'name': 'Regenc...|[{'iso_3166_1': '...|          1995-12-15|           187436818|               170.0|[{'iso_639_1': 'e...|Released|A Los Angeles Cri...|                Heat|   False|                 7.7|             1886|\n",
      "|False|                 NULL|58000000|[{'id': 35, 'name...|                NULL|11860|tt0114319|               en|             Sabrina|An ugly duckling ...|  6.677277|/jQh15y5YB7bWz1Nt...|[{'name': 'Paramo...|[{'iso_3166_1': '...|          1995-12-15|                   0|               127.0|[{'iso_639_1': 'f...|Released|You are cordially...|             Sabrina|   False|                 6.2|              141|\n",
      "|False|                 NULL|       0|[{'id': 28, 'name...|                NULL|45325|tt0112302|               en|        Tom and Huck|A mischievous you...|  2.561161|/sGO5Qa55p7wTu7FJ...|[{'name': 'Walt D...|[{'iso_3166_1': '...|          1995-12-22|                   0|                97.0|[{'iso_639_1': 'e...|Released|The Original Bad ...|        Tom and Huck|   False|                 5.4|               45|\n",
      "|False|                 NULL|35000000|[{'id': 28, 'name...|                NULL| 9091|tt0114576|               en|        Sudden Death|International act...|   5.23158|/eoWvKD60lT95Ss1M...|[{'name': 'Univer...|[{'iso_3166_1': '...|          1995-12-22|            64350171|               106.0|[{'iso_639_1': 'e...|Released|Terror goes into ...|        Sudden Death|   False|                 5.5|              174|\n",
      "|False| {'id': 645, 'name...|58000000|[{'id': 12, 'name...|http://www.mgm.co...|  710|tt0113189|               en|           GoldenEye|James Bond must u...| 14.686036|/5c0ovjT41KnYIHYu...|[{'name': 'United...|[{'iso_3166_1': '...|          1995-11-16|           352194034|               130.0|[{'iso_639_1': 'e...|Released|No limits. No fea...|           GoldenEye|   False|                 6.6|             1194|\n",
      "|False|                 NULL|62000000|[{'id': 35, 'name...|                NULL| 9087|tt0112346|               en|The American Pres...|Widowed U.S. pres...|  6.318445|/lymPNGLZgPHuqM29...|[{'name': 'Columb...|[{'iso_3166_1': '...|          1995-11-17|           107879496|               106.0|[{'iso_639_1': 'e...|Released|Why can't the mos...|The American Pres...|   False|                 6.5|              199|\n",
      "|False|                 NULL|       0|[{'id': 35, 'name...|                NULL|12110|tt0112896|               en|Dracula: Dead and...|When a lawyer sho...|  5.430331|/xve4cgfYItnOhtzL...|[{'name': 'Columb...|[{'iso_3166_1': '...|          1995-12-22|                   0|                88.0|[{'iso_639_1': 'e...|Released|                NULL|Dracula: Dead and...|   False|                 5.7|              210|\n",
      "|False| {'id': 117693, 'n...|       0|[{'id': 10751, 'n...|                NULL|21032|tt0112453|               en|               Balto|An outcast half-w...| 12.140733|/gV5PCAVCPNxlOLFM...|[{'name': 'Univer...|[{'iso_3166_1': '...|          1995-12-22|            11348324|                78.0|[{'iso_639_1': 'e...|Released|Part Dog. Part Wo...|               Balto|   False|                 7.1|              423|\n",
      "|False|                 NULL|44000000|[{'id': 36, 'name...|                NULL|10858|tt0113987|               en|               Nixon|An all-star cast ...|     5.092|/cICkmCEiXRhvZmbu...|[{'name': 'Hollyw...|[{'iso_3166_1': '...|          1995-12-22|            13681765|               192.0|[{'iso_639_1': 'e...|Released|Triumphant in Vic...|               Nixon|   False|                 7.1|               72|\n",
      "|False|                 NULL|98000000|[{'id': 28, 'name...|                NULL| 1408|tt0112760|               en|    Cutthroat Island|Morgan Adams and ...|  7.284477|/odM9973kIv9hcjfH...|[{'name': 'Le Stu...|[{'iso_3166_1': '...|          1995-12-22|            10017322|               119.0|[{'iso_639_1': 'e...|Released|The Course Has Be...|    Cutthroat Island|   False|                 5.7|              137|\n",
      "|False|                 NULL|52000000|[{'id': 18, 'name...|                NULL|  524|tt0112641|               en|              Casino|The life of the g...| 10.137389|/xo517ibXBDdYQY81...|[{'name': 'Univer...|[{'iso_3166_1': '...|          1995-11-22|           116112375|               178.0|[{'iso_639_1': 'e...|Released|No one stays at t...|              Casino|   False|                 7.8|             1343|\n",
      "|False|                 NULL|16500000|[{'id': 18, 'name...|                NULL| 4584|tt0114388|               en|Sense and Sensibi...|Rich Mr. Dashwood...| 10.673167|/lA9HTy84Bb6ZwNey...|[{'name': 'Columb...|[{'iso_3166_1': '...|          1995-12-13|           135000000|               136.0|[{'iso_639_1': 'e...|Released|Lose your heart a...|Sense and Sensibi...|   False|                 7.2|              364|\n",
      "|False|                 NULL| 4000000|[{'id': 80, 'name...|                NULL|    5|tt0113101|               en|          Four Rooms|It's Ted the Bell...|  9.026586|/eQs5hh9rxrk1m4xH...|[{'name': 'Mirama...|[{'iso_3166_1': '...|          1995-12-09|             4300000|                98.0|[{'iso_639_1': 'e...|Released|Twelve outrageous...|          Four Rooms|   False|                 6.5|              539|\n",
      "|False| {'id': 3167, 'nam...|30000000|[{'id': 80, 'name...|                NULL| 9273|tt0112281|               en|Ace Ventura: When...|Summoned from an ...|  8.205448|/wRlGnJhEzcxBjvWt...|[{'name': 'O Ente...|[{'iso_3166_1': '...|          1995-11-10|           212385533|                90.0|[{'iso_639_1': 'e...|Released|New animals. New ...|Ace Ventura: When...|   False|                 6.1|             1128|\n",
      "|False|                 NULL|60000000|[{'id': 28, 'name...|                NULL|11517|tt0113845|               en|         Money Train|A vengeful New Yo...|  7.337906|/jSozzzVOR2kfXgTU...|[{'name': 'Columb...|[{'iso_3166_1': '...|          1995-11-21|            35431113|               103.0|[{'iso_639_1': 'e...|Released|Get on, or GET OU...|         Money Train|   False|                 5.4|              224|\n",
      "+-----+---------------------+--------+--------------------+--------------------+-----+---------+-----------------+--------------------+--------------------+----------+--------------------+--------------------+--------------------+--------------------+--------------------+--------------------+--------------------+--------+--------------------+--------------------+--------+--------------------+-----------------+\n",
      "only showing top 20 rows\n",
      "\n"
     ]
    }
   ],
   "source": [
    "df =spark.read.csv(\"s3://themovieset/movies_metadata.csv\", header=True, inferSchema=True)\n",
    "\n",
    "df.show()\n"
   ]
  },
  {
   "cell_type": "code",
   "execution_count": 5,
   "id": "dfeedfce-72de-479f-8246-d26db4e9795d",
   "metadata": {},
   "outputs": [
    {
     "name": "stdout",
     "output_type": "stream",
     "text": [
      "DataFrame[id: string, budget: string, vote_average: string]\n"
     ]
    }
   ],
   "source": [
    "#code from phase 2 proccesd on EMR\n",
    "\n",
    "#the columns im intrested in ,my current data frame\n",
    "selected_columns=df.select(\"id\",\"budget\",\"vote_average\")\n",
    "print(selected_columns)\n",
    "#by default, Spark treats the JSON data in the column as a string,so ww will have to deal with that"
   ]
  },
  {
   "cell_type": "code",
   "execution_count": 6,
   "id": "7817faca-ef51-433b-9fae-17019986f2ba",
   "metadata": {},
   "outputs": [],
   "source": [
    "from pyspark.sql.functions import trim,col\n",
    "#handleing casting with white space since its a string so it wont be null after casting\n",
    "\n",
    "selected_columns = selected_columns.withColumn(\"budget\", trim(col(\"budget\")))\n",
    "selected_columns = selected_columns.withColumn(\"vote_average\", trim(col(\"vote_average\")))"
   ]
  },
  {
   "cell_type": "code",
   "execution_count": 7,
   "id": "87e64fb1-3f78-412f-8d9a-745cfc2ca67a",
   "metadata": {},
   "outputs": [
    {
     "name": "stdout",
     "output_type": "stream",
     "text": [
      "root\n",
      " |-- id: string (nullable = true)\n",
      " |-- budget: float (nullable = true)\n",
      " |-- vote_average: float (nullable = true)\n",
      "\n"
     ]
    }
   ],
   "source": [
    "#for this section ill clean all columns but the json for later\n",
    "\n",
    "##col:function is used to refer to a DataFrame column by name. It allows you to perform various operation,like casting a col\n",
    "selected_columns = selected_columns.withColumn(\"budget\", col(\"budget\").cast(\"float\"))\n",
    "selected_columns = selected_columns.withColumn(\"vote_average\", col(\"vote_average\").cast(\"float\"))\n",
    "selected_columns.printSchema()"
   ]
  },
  {
   "cell_type": "code",
   "execution_count": 8,
   "id": "31edb2ea-dcc2-4840-9f1b-de82eb3fa7e8",
   "metadata": {},
   "outputs": [
    {
     "name": "stdout",
     "output_type": "stream",
     "text": [
      "Before fixing null values:\n"
     ]
    },
    {
     "name": "stderr",
     "output_type": "stream",
     "text": [
      "                                                                                \r"
     ]
    },
    {
     "name": "stdout",
     "output_type": "stream",
     "text": [
      "+----------+---------+------------+\n",
      "|        id|   budget|vote_average|\n",
      "+----------+---------+------------+\n",
      "|     31357|    1.6E7|        NULL|\n",
      "|      8012|  3.025E7|        NULL|\n",
      "|       902|    1.8E7|        NULL|\n",
      "|     11443|    1.0E7|        NULL|\n",
      "|       807|    3.3E7|        NULL|\n",
      "|      9536|    1.5E7|        NULL|\n",
      "|      9623|    4.4E7|        NULL|\n",
      "|    188588|      0.0|        NULL|\n",
      "|      9283|      0.0|        NULL|\n",
      "|     63076|      0.0|        NULL|\n",
      "|    290157|      0.0|        NULL|\n",
      "|1995-01-01|     NULL|        NULL|\n",
      "|     55475|      0.0|        NULL|\n",
      "|    124636|      0.0|        NULL|\n",
      "|      5757|      0.0|        NULL|\n",
      "|      8839|    5.0E7|        NULL|\n",
      "|     17447|      0.0|        NULL|\n",
      "|      9344|1500000.0|        NULL|\n",
      "|     47608|      0.0|        NULL|\n",
      "|     18402|      0.0|        NULL|\n",
      "+----------+---------+------------+\n",
      "only showing top 20 rows\n",
      "\n",
      "After fixing null values:\n"
     ]
    },
    {
     "name": "stderr",
     "output_type": "stream",
     "text": [
      "                                                                                \r"
     ]
    },
    {
     "name": "stdout",
     "output_type": "stream",
     "text": [
      "+---+------+------------+\n",
      "| id|budget|vote_average|\n",
      "+---+------+------------+\n",
      "+---+------+------------+\n",
      "\n"
     ]
    }
   ],
   "source": [
    "#Check for Missing Values [null]\n",
    "\n",
    "print(\"Before fixing null values:\")\n",
    "selected_columns.filter(\n",
    "    selected_columns.id.isNull() | \n",
    "    selected_columns.budget.isNull() | \n",
    "    selected_columns.vote_average.isNull()\n",
    ").show()\n",
    "\n",
    "# Drop rows where either 'budget' or 'vote_average' is null\n",
    "# Since both are critical to my analysis\n",
    "selected_columns = selected_columns.dropna(subset=[\"budget\", \"vote_average\"])\n",
    "\n",
    "# Check for Missing Values [null] after fixing\n",
    "print(\"After fixing null values:\")\n",
    "selected_columns.filter(\n",
    "    selected_columns.id.isNull() | \n",
    "    selected_columns.budget.isNull() | \n",
    "    selected_columns.vote_average.isNull() \n",
    ").show()"
   ]
  },
  {
   "cell_type": "code",
   "execution_count": 9,
   "id": "250efae9-929a-43ba-9e60-a2716d832b1e",
   "metadata": {},
   "outputs": [],
   "source": [
    "#drop duplicates rows ill measure by id, method of pyspark takes a sub set[] inside the col name \n",
    "selected_columns = selected_columns.dropDuplicates([\"id\"])\n"
   ]
  },
  {
   "cell_type": "code",
   "execution_count": 10,
   "id": "64f79752-a63e-4962-899a-a31b16e14ffb",
   "metadata": {},
   "outputs": [],
   "source": [
    "#trim whitespace \n",
    "selected_columns = selected_columns.withColumn(\"id\", trim(col(\"id\")))"
   ]
  },
  {
   "cell_type": "code",
   "execution_count": 11,
   "id": "eaeb2ffd-a946-4531-988f-49f61179aaa2",
   "metadata": {},
   "outputs": [
    {
     "name": "stdout",
     "output_type": "stream",
     "text": [
      "Remaining rows after removing zero budget:\n"
     ]
    },
    {
     "name": "stderr",
     "output_type": "stream",
     "text": [
      "[Stage 12:>                                                         (0 + 2) / 2]\r"
     ]
    },
    {
     "name": "stdout",
     "output_type": "stream",
     "text": [
      "+------+---------+------------+\n",
      "|    id|   budget|vote_average|\n",
      "+------+---------+------------+\n",
      "|  1572|    9.0E7|         6.9|\n",
      "| 10436|    3.4E7|         7.0|\n",
      "|  2088|   1.15E7|         5.7|\n",
      "|  1090|    1.6E7|         6.8|\n",
      "|  2294|    2.2E7|         6.4|\n",
      "| 11888|    3.3E7|         5.3|\n",
      "|  9583|    2.7E7|         5.6|\n",
      "| 29912|4100000.0|         6.4|\n",
      "|   296|    2.0E8|         5.9|\n",
      "| 30923|    2.1E7|         6.1|\n",
      "| 24269|8000000.0|         6.9|\n",
      "|  9030|    1.2E7|         5.5|\n",
      "|191714|1000000.0|         7.3|\n",
      "|   451|3600000.0|         7.1|\n",
      "|  9032|   3.42E7|         6.2|\n",
      "| 19665|7800000.0|         4.7|\n",
      "| 84329|2500000.0|         6.8|\n",
      "|100402|    1.7E8|         7.6|\n",
      "|187596|    1.5E7|         5.8|\n",
      "| 12104|    1.2E7|         7.7|\n",
      "+------+---------+------------+\n",
      "only showing top 20 rows\n",
      "\n"
     ]
    },
    {
     "name": "stderr",
     "output_type": "stream",
     "text": [
      "                                                                                \r"
     ]
    }
   ],
   "source": [
    "#why are all budget showing 0?\n",
    "# Remove rows with a budget of 0\n",
    "selected_columns = selected_columns.filter(selected_columns.budget > 0)#are we removing them\n",
    "# Check remaining rows after filtering\n",
    "print(\"Remaining rows after removing zero budget:\")\n",
    "selected_columns.show()"
   ]
  },
  {
   "cell_type": "code",
   "execution_count": 12,
   "id": "2ae12040-5ead-486a-8f16-94dc98f6ada3",
   "metadata": {},
   "outputs": [
    {
     "name": "stderr",
     "output_type": "stream",
     "text": [
      "                                                                                \r"
     ]
    },
    {
     "name": "stdout",
     "output_type": "stream",
     "text": [
      "+---------+------------+\n",
      "|   budget|vote_average|\n",
      "+---------+------------+\n",
      "|    9.0E7|         6.9|\n",
      "|    3.4E7|         7.0|\n",
      "|   1.15E7|         5.7|\n",
      "|    1.6E7|         6.8|\n",
      "|    2.2E7|         6.4|\n",
      "|    3.3E7|         5.3|\n",
      "|    2.7E7|         5.6|\n",
      "|4100000.0|         6.4|\n",
      "|    2.0E8|         5.9|\n",
      "|    2.1E7|         6.1|\n",
      "|8000000.0|         6.9|\n",
      "|3600000.0|         7.1|\n",
      "|   3.42E7|         6.2|\n",
      "|7800000.0|         4.7|\n",
      "|    1.2E7|         7.7|\n",
      "|6000000.0|         7.4|\n",
      "| 864000.0|         6.6|\n",
      "|7500000.0|         6.7|\n",
      "|2500000.0|         5.7|\n",
      "|    1.0E7|         5.4|\n",
      "+---------+------------+\n",
      "only showing top 20 rows\n",
      "\n"
     ]
    },
    {
     "name": "stderr",
     "output_type": "stream",
     "text": [
      "24/11/27 10:29:12 WARN Instrumentation: [489090ee] regParam is zero, which might cause numerical instability and overfitting.\n",
      "24/11/27 10:29:17 WARN InstanceBuilder: Failed to load implementation from:dev.ludovic.netlib.blas.JNIBLAS\n",
      "24/11/27 10:29:17 WARN InstanceBuilder: Failed to load implementation from:dev.ludovic.netlib.blas.VectorBLAS\n",
      "24/11/27 10:29:17 WARN InstanceBuilder: Failed to load implementation from:dev.ludovic.netlib.lapack.JNILAPACK\n",
      "                                                                                \r"
     ]
    },
    {
     "name": "stdout",
     "output_type": "stream",
     "text": [
      "Coefficients: [0.0054226240704084655]\n",
      "Intercept: 11417.878765934183\n"
     ]
    },
    {
     "name": "stderr",
     "output_type": "stream",
     "text": [
      "                                                                                \r"
     ]
    },
    {
     "name": "stdout",
     "output_type": "stream",
     "text": [
      "+------+------------+------------------+\n",
      "|budget|vote_average|        prediction|\n",
      "+------+------------+------------------+\n",
      "|   1.0|         4.7|11417.884188558253|\n",
      "|   1.0|         6.0|11417.884188558253|\n",
      "|   2.0|         6.6|11417.889611182323|\n",
      "|   3.0|         9.0|11417.895033806395|\n",
      "|   6.0|         5.5|11417.911301678605|\n",
      "|  10.0|         4.0|11417.932992174887|\n",
      "|  12.0|         4.9|11417.943837423029|\n",
      "|  12.0|         5.1|11417.943837423029|\n",
      "|  28.0|         5.9|11418.030599408155|\n",
      "|  30.0|         4.6|11418.041444656295|\n",
      "|  30.0|         7.3|11418.041444656295|\n",
      "|  50.0|         7.8|11418.149897137704|\n",
      "|  85.0|         4.8|11418.339688980168|\n",
      "| 110.0|         5.0|11418.475254581928|\n",
      "| 130.0|        10.0|11418.583707063337|\n",
      "| 250.0|         0.0|11419.234421951785|\n",
      "| 686.0|         7.1|11421.598686046484|\n",
      "| 762.0|         4.9|11422.010805475835|\n",
      "|3000.0|         5.0|11434.146638145408|\n",
      "|5000.0|         7.6|11444.991886286225|\n",
      "+------+------------+------------------+\n",
      "only showing top 20 rows\n",
      "\n"
     ]
    },
    {
     "name": "stderr",
     "output_type": "stream",
     "text": [
      "[Stage 28:==============================================>       (172 + 8) / 200]\r"
     ]
    },
    {
     "name": "stdout",
     "output_type": "stream",
     "text": [
      "Root Mean Squared Error (RMSE) on test data: 223341.3453260098\n"
     ]
    },
    {
     "name": "stderr",
     "output_type": "stream",
     "text": [
      "                                                                                \r"
     ]
    }
   ],
   "source": [
    "from pyspark.ml.feature import VectorAssembler # ml only can take vector so \n",
    "from pyspark.ml.regression import LinearRegression\n",
    "from pyspark.ml.evaluation import RegressionEvaluator #evalute ur modle\n",
    "#ml configration i wanna implment linear reggersion,no need for id\n",
    "selected_columns = selected_columns.drop(\"id\")\n",
    "selected_columns.show()\n",
    "#budget is my feature[input] my label is vote[the dependent variable]\n",
    "\n",
    "#ml expect input as a form of vector\n",
    "\n",
    "# Step 1: Create a feature vector for budget ,creating a new column called features\n",
    "assembler = VectorAssembler(inputCols=[\"budget\"], outputCol=\"features\")\n",
    "assembled_data = assembler.transform(selected_columns)\n",
    "\n",
    "# Step 2: Split the data into training 80% and test 20% \n",
    "train_data, test_data = assembled_data.randomSplit([0.8, 0.2], seed=123)\n",
    "\n",
    "# Step 3: Set up the linear regression model get my selected columns for predictions\n",
    "lr = LinearRegression(featuresCol=\"features\", labelCol=\"vote_average\")\n",
    "\n",
    "# Step 4: Train the model on the training data\n",
    "lr_model = lr.fit(train_data)\n",
    "\n",
    "# Step 5: Output the model's coefficients and intercept\n",
    "#coefficients and intercept is a crucial part of understanding how the linear regression model predicts outcomes y=mx+b\n",
    "# generalization based on the relationships identified across all of your training data\n",
    "print(f\"Coefficients: {lr_model.coefficients}\")\n",
    "print(f\"Intercept: {lr_model.intercept}\")\n",
    "\n",
    "# Step 6: Make predictions on the test data the 20%\n",
    "predictions = lr_model.transform(test_data)\n",
    "predictions.select(\"budget\", \"vote_average\", \"prediction\").show()\n",
    "\n",
    "# Step 7: Evaluate the model using RMSE (Root Mean Squared Error) this is the standard for linear reggrssion\n",
    "evaluator = RegressionEvaluator(labelCol=\"vote_average\", predictionCol=\"prediction\", metricName=\"rmse\")\n",
    "rmse = evaluator.evaluate(predictions)\n",
    "print(f\"Root Mean Squared Error (RMSE) on test data: {rmse}\")"
   ]
  },
  {
   "cell_type": "code",
   "execution_count": 13,
   "id": "ec6223ef-afff-45bd-8bbe-63d6f67ad2bf",
   "metadata": {},
   "outputs": [
    {
     "name": "stderr",
     "output_type": "stream",
     "text": [
      "                                                                                \r"
     ]
    },
    {
     "data": {
      "image/png": "[encoded data removed]",
      "text/plain": [
       "<Figure size 1000x600 with 1 Axes>"
      ]
     },
     "metadata": {},
     "output_type": "display_data"
    }
   ],
   "source": [
    "import matplotlib.pyplot as plt\n",
    "import seaborn as sns\n",
    "\n",
    "# Extract the columns for budget, actual vote_average, and predicted vote_average and turn them to pandas data frame\n",
    "x = predictions.select(\"budget\").toPandas()\n",
    "y_actual = predictions.select(\"vote_average\").toPandas()\n",
    "y_pred = predictions.select(\"prediction\").toPandas()\n",
    "\n",
    "# Create a scatter plot of actual vote_average vs budget\n",
    "plt.figure(figsize=(10, 6))\n",
    "sns.scatterplot(x=x['budget'], y=y_actual['vote_average'], label=\"Actual\", alpha=0.6, color='blue')\n",
    "\n",
    "\n",
    "sns.lineplot(x=x['budget'], y=y_pred['prediction'], label=\"Predicted\", color='red')\n",
    "\n",
    "# Adding labels and title\n",
    "plt.title(\"Actual vs Predicted Vote Average vs. Budget\")\n",
    "plt.xlabel(\"Budget\")\n",
    "plt.ylabel(\"Vote Average\")\n",
    "\n",
    "# Show the plot\n",
    "plt.grid()\n",
    "plt.legend()\n",
    "plt.show()"
   ]
  },
  {
   "cell_type": "code",
   "execution_count": 15,
   "id": "cb6497d9-10d7-4f77-8ac2-9e021572ff03",
   "metadata": {},
   "outputs": [
    {
     "name": "stderr",
     "output_type": "stream",
     "text": [
      "                                                                                \r"
     ]
    },
    {
     "name": "stdout",
     "output_type": "stream",
     "text": [
      "+------+-------+------+----------+\n",
      "|userId|movieId|rating| timestamp|\n",
      "+------+-------+------+----------+\n",
      "|     1|    110|   1.0|1425941529|\n",
      "|     1|    147|   4.5|1425942435|\n",
      "|     1|    858|   5.0|1425941523|\n",
      "|     1|   1221|   5.0|1425941546|\n",
      "|     1|   1246|   5.0|1425941556|\n",
      "+------+-------+------+----------+\n",
      "only showing top 5 rows\n",
      "\n"
     ]
    },
    {
     "name": "stderr",
     "output_type": "stream",
     "text": [
      "                                                                                \r"
     ]
    },
    {
     "name": "stdout",
     "output_type": "stream",
     "text": [
      "Total number of records in the dataset: 26024289\n"
     ]
    },
    {
     "name": "stderr",
     "output_type": "stream",
     "text": [
      "[Stage 45:=============================>                            (4 + 4) / 8]\r"
     ]
    },
    {
     "name": "stdout",
     "output_type": "stream",
     "text": [
      "Number of records in the sampled dataset: 10001371\n"
     ]
    },
    {
     "name": "stderr",
     "output_type": "stream",
     "text": [
      "                                                                                \r"
     ]
    }
   ],
   "source": [
    "#second file proccesing\n",
    "df_Bclean=spark.read.csv(\"s3://themovieset/ratings.csv\", header=True, inferSchema=True)\n",
    "# Step 3: Show the full DataFrame schema and first few rows (optional)\n",
    "df_Bclean. printSchema\n",
    "df_Bclean. show(5)\n",
    "# Step 4: Check the total number of records\n",
    "total_records = df_Bclean.count ()\n",
    "print(f\"Total number of records in the dataset: {total_records}\")\n",
    "\n",
    "# Step 5: Extract a random sample\n",
    "# Using sample with fraction argument to approximate 10 million rows if you know the total number of rows\n",
    "fraction = 10_000_000 / total_records # Calculate the fraction needed to extract 10 million rows\n",
    "df_sample = df_Bclean.sample(withReplacement=False, fraction=fraction)\n",
    "\n",
    "# the number of records in the sampled dataset\n",
    "sample_count = df_sample. count()\n",
    "print(f\"Number of records in the sampled dataset: {sample_count}\")\n",
    "\n",
    "# Step 6: get a random sample 10 mill\n",
    "df_sample_10M = df_sample. limit (10_000_000)\n",
    "# Step 7: Select the columns (movieId, userId, rating)\n",
    "df_selected = df_sample.select(\"movieId\", \"userId\", \"rating\")\n"
   ]
  },
  {
   "cell_type": "code",
   "execution_count": 16,
   "id": "bdd3804b-8854-4d99-97e1-dbaf03e821f0",
   "metadata": {},
   "outputs": [
    {
     "name": "stdout",
     "output_type": "stream",
     "text": [
      "Schema after casting to Integer:\n",
      "root\n",
      " |-- movieId: integer (nullable = true)\n",
      " |-- userId: integer (nullable = true)\n",
      " |-- rating: double (nullable = true)\n",
      "\n",
      "Missing Values Count per Column:\n"
     ]
    },
    {
     "name": "stderr",
     "output_type": "stream",
     "text": [
      "                                                                                \r"
     ]
    },
    {
     "name": "stdout",
     "output_type": "stream",
     "text": [
      "+-------+------+------+\n",
      "|movieId|userId|rating|\n",
      "+-------+------+------+\n",
      "|      0|     0|     0|\n",
      "+-------+------+------+\n",
      "\n",
      "Number of records after dropping missing values:\n"
     ]
    },
    {
     "name": "stderr",
     "output_type": "stream",
     "text": [
      "[Stage 51:====================================>                     (5 + 3) / 8]\r"
     ]
    },
    {
     "name": "stdout",
     "output_type": "stream",
     "text": [
      "10001371\n"
     ]
    },
    {
     "name": "stderr",
     "output_type": "stream",
     "text": [
      "                                                                                \r"
     ]
    }
   ],
   "source": [
    "# casting\n",
    "from pyspark.sql.functions import col, trim\n",
    "\n",
    "# Trim leading/trailing spaces and cascade the conversion from String to Integer for userId and movieId\n",
    "df_casting = df_selected.withColumn(\"userId\", trim(col(\"userId\")).cast(\"int\")) \\\n",
    "                        .withColumn(\"movieId\", trim(col(\"movieId\")).cast(\"int\"))\n",
    "\n",
    "# Display the schema after conversion\n",
    "print(\"Schema after casting to Integer:\")\n",
    "df_casting.printSchema()\n",
    "\n",
    "from pyspark.sql.functions import col, trim, sum, when  # Import col and trim functions\n",
    "\n",
    "# Step 10: Data Cleaning\n",
    "# Check for missing values in each column\n",
    "missing_values = df_casting.select([sum(col(c).isNull().cast(\"int\")).alias(c) for c in df_casting.columns])\n",
    "print(\"Missing Values Count per Column:\")\n",
    "missing_values.show()\n",
    "\n",
    "# Drop rows with missing values\n",
    "df_cleaned = df_casting.dropna()\n",
    "\n",
    "# Step 3: Verify the cleaned DataFrame\n",
    "print(\"Number of records after dropping missing values:\")\n",
    "print(df_cleaned.count())"
   ]
  },
  {
   "cell_type": "code",
   "execution_count": 17,
   "id": "2fd78fe9-3bed-4fcc-8111-3a2785c33f6e",
   "metadata": {},
   "outputs": [
    {
     "name": "stderr",
     "output_type": "stream",
     "text": [
      "                                                                                \r"
     ]
    },
    {
     "name": "stdout",
     "output_type": "stream",
     "text": [
      "+-------+------+------+\n",
      "|movieId|userId|rating|\n",
      "+-------+------+------+\n",
      "|   1967|205621|   4.5|\n",
      "|   1222|205661|   5.0|\n",
      "|   4643|205694|   1.0|\n",
      "| 112556|205700|   4.0|\n",
      "|   1991|205714|   1.5|\n",
      "|   5388|205722|   4.0|\n",
      "|   2763|205756|   4.0|\n",
      "|    653|205783|   2.0|\n",
      "|   4011|205791|   3.5|\n",
      "|   2000|205829|   3.0|\n",
      "|    588|205900|   2.5|\n",
      "|   2852|205918|   4.0|\n",
      "|    501|205938|   3.5|\n",
      "|   1927|205974|   4.5|\n",
      "|   2533|205991|   4.5|\n",
      "|    260|206056|   4.0|\n",
      "|   2533|206099|   3.0|\n",
      "|  54286|206188|   5.0|\n",
      "|    256|206189|   1.0|\n",
      "|   2105|206215|   2.5|\n",
      "+-------+------+------+\n",
      "only showing top 20 rows\n",
      "\n"
     ]
    },
    {
     "name": "stderr",
     "output_type": "stream",
     "text": [
      "                                                                                \r"
     ]
    },
    {
     "name": "stdout",
     "output_type": "stream",
     "text": [
      "+-------+------------+------------------+----------+\n",
      "|movieId|rating_count|        avg_rating|user_count|\n",
      "+-------+------------+------------------+----------+\n",
      "|   8638|        1813| 3.981246552675124|      1813|\n",
      "|   8643|         513|3.2076023391812867|       513|\n",
      "|   8650|          52|3.6538461538461537|        52|\n",
      "|   8655|          28| 3.267857142857143|        28|\n",
      "|   8705|          12|             2.375|        12|\n",
      "|   8755|          29|3.8793103448275863|        29|\n",
      "|   8760|          28|2.4642857142857144|        28|\n",
      "|   8770|          18|2.5555555555555554|        18|\n",
      "|   8774|          21|3.0476190476190474|        21|\n",
      "|   8784|        4492| 3.760017809439003|      4492|\n",
      "|   8811|         106|1.6556603773584906|       106|\n",
      "|   8825|          16|           2.40625|        16|\n",
      "|   8830|         277|1.9133574007220218|       277|\n",
      "|   8834|          13|               3.0|        13|\n",
      "|   8851|          33|3.6363636363636362|        33|\n",
      "|   8876|           8|             3.125|         8|\n",
      "|   8888|           1|               3.0|         1|\n",
      "|   8896|          18|3.0277777777777777|        18|\n",
      "|   8903|          33| 2.227272727272727|        33|\n",
      "|   8911|         124|3.0403225806451615|       124|\n",
      "+-------+------------+------------------+----------+\n",
      "only showing top 20 rows\n",
      "\n"
     ]
    },
    {
     "name": "stderr",
     "output_type": "stream",
     "text": [
      "                                                                                \r"
     ]
    },
    {
     "name": "stdout",
     "output_type": "stream",
     "text": [
      "+-------+-------------+------------------+\n",
      "|movieId|ratings_count|        avg_rating|\n",
      "+-------+-------------+------------------+\n",
      "|   8638|         1813| 3.981246552675124|\n",
      "|   8643|          513|3.2076023391812867|\n",
      "|   8650|           52|3.6538461538461537|\n",
      "|   8655|           28| 3.267857142857143|\n",
      "|   8755|           29|3.8793103448275863|\n",
      "+-------+-------------+------------------+\n",
      "only showing top 5 rows\n",
      "\n"
     ]
    },
    {
     "name": "stderr",
     "output_type": "stream",
     "text": [
      "                                                                                \r"
     ]
    },
    {
     "name": "stdout",
     "output_type": "stream",
     "text": [
      "+-------+-------------+------------------+-----+\n",
      "|movieId|ratings_count|        avg_rating|label|\n",
      "+-------+-------------+------------------+-----+\n",
      "|   3918|          567|2.9894179894179893|    0|\n",
      "|   3925|          492| 3.834349593495935|    0|\n",
      "|   3956|          263| 2.403041825095057|    0|\n",
      "|   3963|          213|3.2582159624413145|    0|\n",
      "|   3970|          107|3.4158878504672896|    0|\n",
      "+-------+-------------+------------------+-----+\n",
      "only showing top 5 rows\n",
      "\n",
      "Highest Rated Movie from High Group:\n"
     ]
    },
    {
     "name": "stderr",
     "output_type": "stream",
     "text": [
      "                                                                                \r"
     ]
    },
    {
     "name": "stdout",
     "output_type": "stream",
     "text": [
      "+-------+-------------+------------------+-----+\n",
      "|movieId|ratings_count|        avg_rating|label|\n",
      "+-------+-------------+------------------+-----+\n",
      "|    356|        35289|4.0599336903851055|    1|\n",
      "+-------+-------------+------------------+-----+\n",
      "\n"
     ]
    },
    {
     "name": "stderr",
     "output_type": "stream",
     "text": [
      "                                                                                \r"
     ]
    },
    {
     "name": "stdout",
     "output_type": "stream",
     "text": [
      "+-------+-------------+-----------------+-----+\n",
      "|movieId|ratings_count|       avg_rating|label|\n",
      "+-------+-------------+-----------------+-----+\n",
      "|   1088|         5196|3.254715165511932|    1|\n",
      "|   1089|        13409|4.088149750167798|    1|\n",
      "|   1201|         7157|  4.1290345116669|    1|\n",
      "|   1206|        11825|3.984693446088795|    1|\n",
      "|   1212|         3021|4.197782191327375|    1|\n",
      "+-------+-------------+-----------------+-----+\n",
      "only showing top 5 rows\n",
      "\n",
      "Lowest Rated Movie from Low Group:\n"
     ]
    },
    {
     "name": "stderr",
     "output_type": "stream",
     "text": [
      "                                                                                \r"
     ]
    },
    {
     "name": "stdout",
     "output_type": "stream",
     "text": [
      "+-------+-------------+----------+-----+\n",
      "|movieId|ratings_count|avg_rating|label|\n",
      "+-------+-------------+----------+-----+\n",
      "|   5565|            1|       2.0|    0|\n",
      "+-------+-------------+----------+-----+\n",
      "\n"
     ]
    },
    {
     "name": "stderr",
     "output_type": "stream",
     "text": [
      "                                                                                \r"
     ]
    },
    {
     "name": "stdout",
     "output_type": "stream",
     "text": [
      "+-------+-------------+------------------+-----+\n",
      "|movieId|ratings_count|        avg_rating|label|\n",
      "+-------+-------------+------------------+-----+\n",
      "|   3918|          567|2.9894179894179893|    0|\n",
      "|   3925|          492| 3.834349593495935|    0|\n",
      "|   3956|          263| 2.403041825095057|    0|\n",
      "|   3963|          213|3.2582159624413145|    0|\n",
      "|   3970|          107|3.4158878504672896|    0|\n",
      "+-------+-------------+------------------+-----+\n",
      "only showing top 5 rows\n",
      "\n"
     ]
    },
    {
     "name": "stderr",
     "output_type": "stream",
     "text": [
      "                                                                                \r"
     ]
    },
    {
     "name": "stdout",
     "output_type": "stream",
     "text": [
      "+--------------------+-----+----------+\n",
      "|            features|label|prediction|\n",
      "+--------------------+-----+----------+\n",
      "|[10753.0,3.849111...|    1|       1.0|\n",
      "|[1288.0,3.2822204...|    1|       1.0|\n",
      "|[600.0,2.32833333...|    0|       0.0|\n",
      "|[909.0,2.88063806...|    0|       0.0|\n",
      "|[167.0,2.53892215...|    0|       0.0|\n",
      "|[1023.0,3.1686217...|    1|       1.0|\n",
      "|[530.0,2.40377358...|    0|       0.0|\n",
      "|[12014.0,3.510862...|    1|       1.0|\n",
      "|[1282.0,3.4266770...|    1|       1.0|\n",
      "|[210.0,3.50714285...|    0|       0.0|\n",
      "+--------------------+-----+----------+\n",
      "only showing top 10 rows\n",
      "\n"
     ]
    },
    {
     "name": "stderr",
     "output_type": "stream",
     "text": [
      "                                                                                \r"
     ]
    },
    {
     "name": "stdout",
     "output_type": "stream",
     "text": [
      "ROC-AUC: 1.0\n"
     ]
    }
   ],
   "source": [
    "# Remove Records Where movieId is 0 or Null\n",
    "df_cleaned = df_cleaned.filter((col(\"movieId\").isNotNull()) & (col(\"movieId\") != 0))\n",
    "\n",
    "\n",
    "df_cleaned = df_cleaned.filter((col(\"userId\").isNotNull()) & (col(\"userId\") != 0))\n",
    "\n",
    "#  Allow rating to be 0, but Remove Null Ratings\n",
    "df_cleaned = df_cleaned.filter(col(\"rating\").isNotNull())\n",
    "\n",
    "# 1 Check for Duplicate Records and Remove Duplicates (Corrected column name: \"movieId\")\n",
    "df_cleaned = df_cleaned.dropDuplicates([\"userId\", \"movieId\", \"rating\"])\n",
    "\n",
    "# 1Rating Range Validation (0 to 10)\n",
    "df_cleaned = df_cleaned.filter((col(\"rating\") >= 0) & (col(\"rating\") <= 10))\n",
    "\n",
    "# Display the cleaned data\n",
    "df_cleaned.show()\n",
    "\n",
    "from pyspark.sql.functions import avg, count, col\n",
    "\n",
    "# Feature 1: Count the number of ratings for each movie\n",
    "movie_rating_count = df_cleaned.groupBy(\"movieId\").agg(count(\"rating\").alias(\"rating_count\"))\n",
    "\n",
    "# Feature 2: Calculate the average rating for each movie\n",
    "movie_avg_rating = df_cleaned.groupBy(\"movieId\").agg(avg(\"rating\").alias(\"avg_rating\"))\n",
    "\n",
    "# Feature 3: Count the number of unique users per movie\n",
    "unique_users = df_cleaned.groupBy(\"movieId\").agg(count(\"userId\").alias(\"user_count\"))\n",
    "\n",
    "# Join the features together into a single DataFrame\n",
    "features_df = movie_rating_count.join(movie_avg_rating, on=\"movieId\").join(unique_users, on=\"movieId\")\n",
    "\n",
    "# Show the feature DataFrame\n",
    "features_df.show(20)\n",
    "from pyspark.sql.functions import count, avg\n",
    "\n",
    "# Step 3: Aggregate data by movieId\n",
    "movie_stats = df_cleaned.groupBy(\"movieId\").agg(\n",
    "    count(\"rating\").alias(\"ratings_count\"),  # Count the number of ratings for each movie\n",
    "    avg(\"rating\").alias(\"avg_rating\")        # Average rating for each movie\n",
    ")\n",
    "\n",
    "# Show aggregated data and inspect before model\n",
    "movie_stats.show(5)\n",
    "from pyspark.sql import functions as F\n",
    "\n",
    "# Step 4: Create a label column\n",
    "# Label = 1 if movie has more than 1000 ratings, else 0\n",
    "movie_stats = movie_stats.withColumn(\"label\", F.when(movie_stats[\"ratings_count\"] > 1000, 1).otherwise(0))\n",
    "\n",
    "# Show data with labels\n",
    "movie_stats.show(5)\n",
    "\n",
    "# Step 5: Separate movies into \"high\" and \"low\" groups based on the label\n",
    "high_movies = movie_stats.filter(movie_stats[\"label\"] == 1)\n",
    "low_movies = movie_stats.filter(movie_stats[\"label\"] == 0)\n",
    "\n",
    "# Step 6: Find the movie with the highest rating count in the \"high\" group\n",
    "highest_rated_high = high_movies.orderBy(F.desc(\"ratings_count\")).limit(1)\n",
    "\n",
    "# Step 7: Find the movie with the lowest rating count in the \"low\" group\n",
    "lowest_rated_low = low_movies.orderBy(F.asc(\"ratings_count\")).limit(1)\n",
    "\n",
    "# Show the highest and lowest movies from each group\n",
    "print(\"Highest Rated Movie from High Group:\")\n",
    "highest_rated_high.show()\n",
    "high_movies.show(5)\n",
    "\n",
    "print(\"Lowest Rated Movie from Low Group:\")\n",
    "lowest_rated_low.show()\n",
    "\n",
    "\n",
    "low_movies.show(5)\n",
    "from pyspark.ml.feature import VectorAssembler\n",
    "from pyspark.ml.classification import LogisticRegression\n",
    "from pyspark.ml.evaluation import BinaryClassificationEvaluator\n",
    "\n",
    "# Create the features vector\n",
    "assembler = VectorAssembler(inputCols=[\"ratings_count\", \"avg_rating\"], outputCol=\"features\")\n",
    "ml_data = assembler.transform(movie_stats)\n",
    "\n",
    "# Split data into train/test sets\n",
    "train_data, test_data = ml_data.randomSplit([0.8, 0.2], seed=42)\n",
    "\n",
    "# Train Logistic Regression model\n",
    "lr = LogisticRegression(featuresCol=\"features\", labelCol=\"label\")\n",
    "lr_model = lr.fit(train_data)\n",
    "\n",
    "# Make predictions on the test data\n",
    "predictions = lr_model.transform(test_data)\n",
    "#Display predictions\n",
    "predictions.select(\"features\", \"label\", \"prediction\").show(10)\n",
    "# Evaluate the model using ROC-AUC\n",
    "evaluator = BinaryClassificationEvaluator(labelCol=\"label\", rawPredictionCol=\"prediction\", metricName=\"areaUnderROC\")\n",
    "roc_auc = evaluator.evaluate(predictions)\n",
    "print(f\"ROC-AUC: {roc_auc}\")"
   ]
  },
  {
   "cell_type": "code",
   "execution_count": 18,
   "id": "eeca6930-276f-4768-a22f-e5080d02f88c",
   "metadata": {},
   "outputs": [
    {
     "name": "stderr",
     "output_type": "stream",
     "text": [
      "                                                                                \r"
     ]
    },
    {
     "data": {
      "text/plain": [
       "Text(0, 0.5, 'Rating Count')"
      ]
     },
     "execution_count": 18,
     "metadata": {},
     "output_type": "execute_result"
    },
    {
     "data": {
      "image/png": "[encoded data removed]",
      "text/plain": [
       "<Figure size 1000x600 with 1 Axes>"
      ]
     },
     "metadata": {},
     "output_type": "display_data"
    }
   ],
   "source": [
    "import matplotlib.pyplot as plt\n",
    "from pyspark.sql import SparkSession\n",
    "from pyspark.sql.functions import when\n",
    "\n",
    "movie_stats = movie_stats.withColumn('label', when(movie_stats['ratings_count'] > 1000, 1).otherwise(0))\n",
    "\n",
    "\n",
    "data_pandas = movie_stats.select(\"movieId\", \"ratings_count\", \"label\").toPandas()\n",
    "\n",
    "\n",
    "high_rated_movies = data_pandas[data_pandas['label'] == 1]\n",
    "low_rated_movies = data_pandas[data_pandas['label'] == 0]\n",
    "\n",
    "# Create scatter plot\n",
    "plt.figure(figsize=(10,6))\n",
    "\n",
    "# Plot low-rated movies with blue dots\n",
    "plt.scatter(low_rated_movies['movieId'], low_rated_movies['ratings_count'], color='blue', label='Low Rated (<1000 ratings)', alpha=0.7)\n",
    "\n",
    "# Plot high-rated movies with red dots\n",
    "plt.scatter(high_rated_movies['movieId'], high_rated_movies['ratings_count'], color='red', label='High Rated (>1000 ratings)', alpha=0.7)\n",
    "\n",
    "# Add title and labels\n",
    "plt.title('Scatter Plot of Movie Ratings Frequency')\n",
    "plt.xlabel('Movie ID')\n",
    "plt.ylabel('Rating Count')"
   ]
  },
  {
   "cell_type": "code",
   "execution_count": null,
   "id": "ed013b30-b0ac-4601-8d9e-4a48ecdf7083",
   "metadata": {},
   "outputs": [],
   "source": []
  }
 ],
 "metadata": {
  "kernelspec": {
   "display_name": "Python 3 (ipykernel)",
   "language": "python",
   "name": "python3"
  },
  "language_info": {
   "codemirror_mode": {
    "name": "ipython",
    "version": 3
   },
   "file_extension": ".py",
   "mimetype": "text/x-python",
   "name": "python",
   "nbconvert_exporter": "python",
   "pygments_lexer": "ipython3",
   "version": "3.9.16"
  }
 },
 "nbformat": 4,
 "nbformat_minor": 5
}
